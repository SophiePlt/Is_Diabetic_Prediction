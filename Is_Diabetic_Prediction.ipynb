{
 "cells": [
  {
   "cell_type": "code",
   "execution_count": 1,
   "metadata": {},
   "outputs": [],
   "source": [
    "import numpy as np\n",
    "import pandas as pd\n"
   ]
  },
  {
   "cell_type": "code",
   "execution_count": 2,
   "metadata": {},
   "outputs": [],
   "source": [
    " # machine learning libraries\n",
    "from sklearn.linear_model import LogisticRegression\n",
    "from sklearn.svm import SVC, LinearSVC\n",
    "from sklearn.ensemble import RandomForestClassifier\n",
    "from sklearn.ensemble import AdaBoostClassifier\n",
    "from sklearn.neighbors import KNeighborsClassifier\n",
    "from sklearn.naive_bayes import GaussianNB\n",
    "from sklearn.linear_model import Perceptron\n",
    "from sklearn.linear_model import SGDClassifier\n",
    "from sklearn.tree import DecisionTreeClassifier\n"
   ]
  },
  {
   "cell_type": "markdown",
   "metadata": {
    "collapsed": true
   },
   "source": [
    "## Part 1"
   ]
  },
  {
   "cell_type": "markdown",
   "metadata": {},
   "source": [
    "\n",
    "**Read __`diabetesdata.csv`__ file into a pandas dataframe.**\n",
    "About the data: __\n",
    "\n",
    "1. __TimesPregnant__: Number of times pregnant \n",
    "2. __glucoseLevel__: Plasma glucose concentration a 2 hours in an oral glucose tolerance test \n",
    "3. __BP__: Diastolic blood pressure (mm Hg)  \n",
    "5. __insulin__: 2-Hour serum insulin (mu U/ml) \n",
    "6. __BMI__: Body mass index (weight in kg/(height in m)^2) \n",
    "7. __pedigree__: Diabetes pedigree function \n",
    "8. __Age__: Age (years) \n",
    "9. __IsDiabetic__: 0 if not diabetic or 1 if diabetic) \n",
    "\n",
    "\n",
    "\n",
    "\n",
    "\n",
    "\n"
   ]
  },
  {
   "cell_type": "code",
   "execution_count": 3,
   "metadata": {},
   "outputs": [
    {
     "name": "stdout",
     "output_type": "stream",
     "text": [
      "   TimesPregnant  glucoseLevel  BP  insulin   BMI  Pedigree   Age  IsDiabetic\n",
      "0              6         148.0  72        0  33.6     0.627  50.0           1\n",
      "1              1           NaN  66        0  26.6     0.351  31.0           0\n",
      "2              8         183.0  64        0  23.3     0.672   NaN           1\n",
      "3              1           NaN  66       94  28.1     0.167  21.0           0\n",
      "4              0         137.0  40      168  43.1     2.288  33.0           1\n"
     ]
    }
   ],
   "source": [
    "#Read data & print it\n",
    "data = pd.read_csv('diabetesdata.csv')\n",
    "print(data.head())"
   ]
  },
  {
   "cell_type": "markdown",
   "metadata": {},
   "source": [
    "**Calculate the percentage of NaN values in each column.**"
   ]
  },
  {
   "cell_type": "code",
   "execution_count": 4,
   "metadata": {},
   "outputs": [
    {
     "data": {
      "text/html": [
       "<div>\n",
       "<style scoped>\n",
       "    .dataframe tbody tr th:only-of-type {\n",
       "        vertical-align: middle;\n",
       "    }\n",
       "\n",
       "    .dataframe tbody tr th {\n",
       "        vertical-align: top;\n",
       "    }\n",
       "\n",
       "    .dataframe thead th {\n",
       "        text-align: right;\n",
       "    }\n",
       "</style>\n",
       "<table border=\"1\" class=\"dataframe\">\n",
       "  <thead>\n",
       "    <tr style=\"text-align: right;\">\n",
       "      <th></th>\n",
       "      <th>column_name</th>\n",
       "      <th>Percentage Null</th>\n",
       "    </tr>\n",
       "  </thead>\n",
       "  <tbody>\n",
       "    <tr>\n",
       "      <th>TimesPregnant</th>\n",
       "      <td>TimesPregnant</td>\n",
       "      <td>0.000000</td>\n",
       "    </tr>\n",
       "    <tr>\n",
       "      <th>glucoseLevel</th>\n",
       "      <td>glucoseLevel</td>\n",
       "      <td>0.044271</td>\n",
       "    </tr>\n",
       "    <tr>\n",
       "      <th>BP</th>\n",
       "      <td>BP</td>\n",
       "      <td>0.000000</td>\n",
       "    </tr>\n",
       "    <tr>\n",
       "      <th>insulin</th>\n",
       "      <td>insulin</td>\n",
       "      <td>0.000000</td>\n",
       "    </tr>\n",
       "    <tr>\n",
       "      <th>BMI</th>\n",
       "      <td>BMI</td>\n",
       "      <td>0.000000</td>\n",
       "    </tr>\n",
       "    <tr>\n",
       "      <th>Pedigree</th>\n",
       "      <td>Pedigree</td>\n",
       "      <td>0.000000</td>\n",
       "    </tr>\n",
       "    <tr>\n",
       "      <th>Age</th>\n",
       "      <td>Age</td>\n",
       "      <td>0.042969</td>\n",
       "    </tr>\n",
       "    <tr>\n",
       "      <th>IsDiabetic</th>\n",
       "      <td>IsDiabetic</td>\n",
       "      <td>0.000000</td>\n",
       "    </tr>\n",
       "  </tbody>\n",
       "</table>\n",
       "</div>"
      ],
      "text/plain": [
       "                 column_name  Percentage Null\n",
       "TimesPregnant  TimesPregnant         0.000000\n",
       "glucoseLevel    glucoseLevel         0.044271\n",
       "BP                        BP         0.000000\n",
       "insulin              insulin         0.000000\n",
       "BMI                      BMI         0.000000\n",
       "Pedigree            Pedigree         0.000000\n",
       "Age                      Age         0.042969\n",
       "IsDiabetic        IsDiabetic         0.000000"
      ]
     },
     "execution_count": 4,
     "metadata": {},
     "output_type": "execute_result"
    }
   ],
   "source": [
    "# NullsPerColumn is a dataframe that includes a column called 'Percentage Null'. The values are between 0 and 1.\n",
    "\n",
    "percentage_NaN= data.isnull().sum() / len(data)\n",
    "\n",
    "NullsPerColumn = pd.DataFrame({'column_name': data.columns,\n",
    "                                 'Percentage Null': percentage_NaN})\n",
    "NullsPerColumn"
   ]
  },
  {
   "cell_type": "markdown",
   "metadata": {},
   "source": [
    "**Calculate the TOTAL percent of ROWS with NaN values in the dataframe.**"
   ]
  },
  {
   "cell_type": "code",
   "execution_count": 5,
   "metadata": {},
   "outputs": [
    {
     "data": {
      "text/plain": [
       "0.08333333333333333"
      ]
     },
     "execution_count": 5,
     "metadata": {},
     "output_type": "execute_result"
    }
   ],
   "source": [
    "# Return values between 0 and 1. \n",
    "\n",
    "a = data.isnull().sum(axis=1).tolist()\n",
    "PercentNull = (len(a) - a.count(0))  / len(a)\n",
    "PercentNull"
   ]
  },
  {
   "cell_type": "markdown",
   "metadata": {},
   "source": [
    "**Split __`data`__  into  __`train_df`__ and __`test_df`__  with 15% test split.**\n"
   ]
  },
  {
   "cell_type": "code",
   "execution_count": 6,
   "metadata": {},
   "outputs": [],
   "source": [
    "#split values\n",
    "from sklearn.model_selection import train_test_split\n",
    "train_df, test_df = train_test_split(data, test_size=0.15, random_state=100)\n"
   ]
  },
  {
   "cell_type": "markdown",
   "metadata": {},
   "source": [
    "**Replace the Nan values in  __`train_df`__ and __`test_df`__  with the mean of EACH feature.**"
   ]
  },
  {
   "cell_type": "code",
   "execution_count": 7,
   "metadata": {},
   "outputs": [
    {
     "data": {
      "text/html": [
       "<div>\n",
       "<style scoped>\n",
       "    .dataframe tbody tr th:only-of-type {\n",
       "        vertical-align: middle;\n",
       "    }\n",
       "\n",
       "    .dataframe tbody tr th {\n",
       "        vertical-align: top;\n",
       "    }\n",
       "\n",
       "    .dataframe thead th {\n",
       "        text-align: right;\n",
       "    }\n",
       "</style>\n",
       "<table border=\"1\" class=\"dataframe\">\n",
       "  <thead>\n",
       "    <tr style=\"text-align: right;\">\n",
       "      <th></th>\n",
       "      <th>TimesPregnant</th>\n",
       "      <th>glucoseLevel</th>\n",
       "      <th>BP</th>\n",
       "      <th>insulin</th>\n",
       "      <th>BMI</th>\n",
       "      <th>Pedigree</th>\n",
       "      <th>Age</th>\n",
       "      <th>IsDiabetic</th>\n",
       "    </tr>\n",
       "  </thead>\n",
       "  <tbody>\n",
       "    <tr>\n",
       "      <th>458</th>\n",
       "      <td>10</td>\n",
       "      <td>148.0</td>\n",
       "      <td>84</td>\n",
       "      <td>237</td>\n",
       "      <td>37.6</td>\n",
       "      <td>1.001</td>\n",
       "      <td>51.0</td>\n",
       "      <td>1</td>\n",
       "    </tr>\n",
       "    <tr>\n",
       "      <th>635</th>\n",
       "      <td>13</td>\n",
       "      <td>104.0</td>\n",
       "      <td>72</td>\n",
       "      <td>0</td>\n",
       "      <td>31.2</td>\n",
       "      <td>0.465</td>\n",
       "      <td>38.0</td>\n",
       "      <td>1</td>\n",
       "    </tr>\n",
       "    <tr>\n",
       "      <th>457</th>\n",
       "      <td>5</td>\n",
       "      <td>86.0</td>\n",
       "      <td>68</td>\n",
       "      <td>71</td>\n",
       "      <td>30.2</td>\n",
       "      <td>0.364</td>\n",
       "      <td>24.0</td>\n",
       "      <td>0</td>\n",
       "    </tr>\n",
       "    <tr>\n",
       "      <th>674</th>\n",
       "      <td>8</td>\n",
       "      <td>91.0</td>\n",
       "      <td>82</td>\n",
       "      <td>0</td>\n",
       "      <td>35.6</td>\n",
       "      <td>0.587</td>\n",
       "      <td>68.0</td>\n",
       "      <td>0</td>\n",
       "    </tr>\n",
       "    <tr>\n",
       "      <th>277</th>\n",
       "      <td>0</td>\n",
       "      <td>104.0</td>\n",
       "      <td>64</td>\n",
       "      <td>116</td>\n",
       "      <td>27.8</td>\n",
       "      <td>0.454</td>\n",
       "      <td>23.0</td>\n",
       "      <td>0</td>\n",
       "    </tr>\n",
       "  </tbody>\n",
       "</table>\n",
       "</div>"
      ],
      "text/plain": [
       "     TimesPregnant  glucoseLevel  BP  insulin   BMI  Pedigree   Age  \\\n",
       "458             10         148.0  84      237  37.6     1.001  51.0   \n",
       "635             13         104.0  72        0  31.2     0.465  38.0   \n",
       "457              5          86.0  68       71  30.2     0.364  24.0   \n",
       "674              8          91.0  82        0  35.6     0.587  68.0   \n",
       "277              0         104.0  64      116  27.8     0.454  23.0   \n",
       "\n",
       "     IsDiabetic  \n",
       "458           1  \n",
       "635           1  \n",
       "457           0  \n",
       "674           0  \n",
       "277           0  "
      ]
     },
     "execution_count": 7,
     "metadata": {},
     "output_type": "execute_result"
    }
   ],
   "source": [
    "train_df = train_df.fillna(train_df.mean(axis=0))\n",
    "test_df =test_df.fillna(test_df.mean(axis=0))\n",
    "\n",
    "train_df.head()"
   ]
  },
  {
   "cell_type": "markdown",
   "metadata": {},
   "source": [
    "**Split __`train_df`__ & __`test_df`__   into  __`X_train`__, __`Y_train`__  and __`X_test`__, __`Y_test`__.**"
   ]
  },
  {
   "cell_type": "code",
   "execution_count": 8,
   "metadata": {},
   "outputs": [
    {
     "data": {
      "text/plain": [
       "[(652, 7), (652,), (116, 7), (116,)]"
      ]
     },
     "execution_count": 8,
     "metadata": {},
     "output_type": "execute_result"
    }
   ],
   "source": [
    "X_train = train_df.drop(['IsDiabetic'], axis=1)\n",
    "Y_train = train_df.loc[:, train_df.columns == 'IsDiabetic'].values.ravel()\n",
    "X_test  = test_df.drop(['IsDiabetic'], axis=1)\n",
    "Y_test = test_df.loc[:, test_df.columns == 'IsDiabetic'].values.ravel()\n",
    "[X_train.shape, Y_train.shape, X_test.shape,Y_test.shape]"
   ]
  },
  {
   "cell_type": "markdown",
   "metadata": {},
   "source": [
    "**Use this dataset to train perceptron, logistic regression and random forest models using 15% test split. Report training and test accuracies.**"
   ]
  },
  {
   "cell_type": "code",
   "execution_count": 9,
   "metadata": {},
   "outputs": [
    {
     "name": "stdout",
     "output_type": "stream",
     "text": [
      "logreg training acuracy=  0.7806748466257669\n",
      "logreg test accuracy=  0.75\n"
     ]
    }
   ],
   "source": [
    "# Logistic Regression\n",
    "from sklearn import linear_model\n",
    "logreg = linear_model.LogisticRegression(solver = 'newton-cg', multi_class='ovr') \n",
    "# use newton-cg solver and 'ovr' for multi_class\n",
    "logreg.fit(X_train, Y_train)\n",
    "logreg_train_acc = logreg.score(X_train,Y_train)\n",
    "logreg_test_acc = logreg.score(X_test,Y_test)\n",
    "print ('logreg training acuracy= ',logreg_train_acc)\n",
    "print('logreg test accuracy= ',logreg_test_acc)"
   ]
  },
  {
   "cell_type": "code",
   "execution_count": 10,
   "metadata": {},
   "outputs": [
    {
     "name": "stdout",
     "output_type": "stream",
     "text": [
      "perceptron training acuracy=  0.38190184049079756\n",
      "perceptron test accuracy=  0.3793103448275862\n"
     ]
    }
   ],
   "source": [
    "# Perceptron\n",
    "\n",
    "perceptron = linear_model.Perceptron()\n",
    "perceptron.fit(X_train, Y_train)\n",
    "perceptron_train_acc = perceptron.score(X_train, Y_train)\n",
    "perceptron_test_acc = perceptron.score(X_test, Y_test)\n",
    "print ('perceptron training acuracy= ',perceptron_train_acc)\n",
    "print('perceptron test accuracy= ',perceptron_test_acc)\n"
   ]
  },
  {
   "cell_type": "code",
   "execution_count": 11,
   "metadata": {},
   "outputs": [
    {
     "name": "stdout",
     "output_type": "stream",
     "text": [
      "adaboost training acuracy=  0.8358895705521472\n",
      "adaboost test accuracy=  0.7241379310344828\n"
     ]
    }
   ],
   "source": [
    "# Adaboost\n",
    "from sklearn.ensemble import AdaBoostClassifier\n",
    "\n",
    "adaboost = AdaBoostClassifier()\n",
    "adaboost.fit(X_train, Y_train)\n",
    "adaboost_train_acc = adaboost.score(X_train, Y_train)\n",
    "adaboost_test_acc = adaboost.score(X_test, Y_test)\n",
    "print ('adaboost training acuracy= ',adaboost_train_acc)\n",
    "print('adaboost test accuracy= ',adaboost_test_acc)"
   ]
  },
  {
   "cell_type": "code",
   "execution_count": 12,
   "metadata": {},
   "outputs": [
    {
     "name": "stdout",
     "output_type": "stream",
     "text": [
      "random_forest training acuracy=  1.0\n",
      "random_forest test accuracy=  1.0\n"
     ]
    }
   ],
   "source": [
    "# Random Forest\n",
    "from sklearn.ensemble import RandomForestClassifier\n",
    "random_forest = RandomForestClassifier()\n",
    "random_forest.fit(X_train, Y_train)\n",
    "random_forest_train_acc = random_forest.score(X_train, Y_train)\n",
    "random_forest_test_acc = random_forest.score(X_train, Y_train)\n",
    "print('random_forest training acuracy= ',random_forest_train_acc)\n",
    "print('random_forest test accuracy= ',random_forest_test_acc)"
   ]
  },
  {
   "cell_type": "markdown",
   "metadata": {},
   "source": [
    "## Part 2"
   ]
  },
  {
   "cell_type": "markdown",
   "metadata": {},
   "source": [
    "\n",
    "**Add columns __`BMI_band`__ & __`Pedigree_band`__  to  a new dataframe called __`data2`__  by cutting __`BMI`__ & __`Pedigree`__ into 3 intervals. PRINT the first 5 rows of __`data2`__.**\n"
   ]
  },
  {
   "cell_type": "code",
   "execution_count": 13,
   "metadata": {},
   "outputs": [
    {
     "data": {
      "text/html": [
       "<div>\n",
       "<style scoped>\n",
       "    .dataframe tbody tr th:only-of-type {\n",
       "        vertical-align: middle;\n",
       "    }\n",
       "\n",
       "    .dataframe tbody tr th {\n",
       "        vertical-align: top;\n",
       "    }\n",
       "\n",
       "    .dataframe thead th {\n",
       "        text-align: right;\n",
       "    }\n",
       "</style>\n",
       "<table border=\"1\" class=\"dataframe\">\n",
       "  <thead>\n",
       "    <tr style=\"text-align: right;\">\n",
       "      <th></th>\n",
       "      <th>BMI_band</th>\n",
       "      <th>Pedigree_band</th>\n",
       "    </tr>\n",
       "  </thead>\n",
       "  <tbody>\n",
       "    <tr>\n",
       "      <th>0</th>\n",
       "      <td>(22.367, 44.733]</td>\n",
       "      <td>(0.0757, 0.859]</td>\n",
       "    </tr>\n",
       "    <tr>\n",
       "      <th>1</th>\n",
       "      <td>(22.367, 44.733]</td>\n",
       "      <td>(0.0757, 0.859]</td>\n",
       "    </tr>\n",
       "    <tr>\n",
       "      <th>2</th>\n",
       "      <td>(22.367, 44.733]</td>\n",
       "      <td>(0.0757, 0.859]</td>\n",
       "    </tr>\n",
       "    <tr>\n",
       "      <th>3</th>\n",
       "      <td>(22.367, 44.733]</td>\n",
       "      <td>(0.0757, 0.859]</td>\n",
       "    </tr>\n",
       "    <tr>\n",
       "      <th>4</th>\n",
       "      <td>(22.367, 44.733]</td>\n",
       "      <td>(1.639, 2.42]</td>\n",
       "    </tr>\n",
       "  </tbody>\n",
       "</table>\n",
       "</div>"
      ],
      "text/plain": [
       "           BMI_band    Pedigree_band\n",
       "0  (22.367, 44.733]  (0.0757, 0.859]\n",
       "1  (22.367, 44.733]  (0.0757, 0.859]\n",
       "2  (22.367, 44.733]  (0.0757, 0.859]\n",
       "3  (22.367, 44.733]  (0.0757, 0.859]\n",
       "4  (22.367, 44.733]    (1.639, 2.42]"
      ]
     },
     "execution_count": 13,
     "metadata": {},
     "output_type": "execute_result"
    }
   ],
   "source": [
    "# YOUR CODE HERE\n",
    "data2=pd.DataFrame()\n",
    "data2['BMI_band']= pd.cut(data['BMI'],3)\n",
    "data2['Pedigree_band']=pd.cut(data['Pedigree'],3)\n",
    "data2.head(5)"
   ]
  },
  {
   "cell_type": "markdown",
   "metadata": {},
   "source": [
    "__Print the category intervals for __`BMI_band`__ & __`Pedigree_band`."
   ]
  },
  {
   "cell_type": "code",
   "execution_count": 14,
   "metadata": {},
   "outputs": [
    {
     "name": "stdout",
     "output_type": "stream",
     "text": [
      "BMI_Band_Interval: [(22.367, 44.733], (-0.0671, 22.367], (44.733, 67.1]]\n",
      "Categories (3, interval[float64]): [(-0.0671, 22.367] < (22.367, 44.733] < (44.733, 67.1]]\n",
      "Pedigree_Band_Interval: [(0.0757, 0.859], (1.639, 2.42], (0.859, 1.639]]\n",
      "Categories (3, interval[float64]): [(0.0757, 0.859] < (0.859, 1.639] < (1.639, 2.42]]\n"
     ]
    }
   ],
   "source": [
    "print( 'BMI_Band_Interval:', data2['BMI_band'].unique())\n",
    "\n",
    "print('Pedigree_Band_Interval:', data2['Pedigree_band'].unique() )\n",
    "\n",
    "                                                        "
   ]
  },
  {
   "cell_type": "markdown",
   "metadata": {},
   "source": [
    "__Group __`data`__ by __`Pedigree_band`__ & determine ratio of diabetic in each band.__"
   ]
  },
  {
   "cell_type": "code",
   "execution_count": 15,
   "metadata": {},
   "outputs": [
    {
     "data": {
      "text/html": [
       "<div>\n",
       "<style scoped>\n",
       "    .dataframe tbody tr th:only-of-type {\n",
       "        vertical-align: middle;\n",
       "    }\n",
       "\n",
       "    .dataframe tbody tr th {\n",
       "        vertical-align: top;\n",
       "    }\n",
       "\n",
       "    .dataframe thead th {\n",
       "        text-align: right;\n",
       "    }\n",
       "</style>\n",
       "<table border=\"1\" class=\"dataframe\">\n",
       "  <thead>\n",
       "    <tr style=\"text-align: right;\">\n",
       "      <th></th>\n",
       "      <th>Pedigree_band</th>\n",
       "      <th>IsDiabetic</th>\n",
       "    </tr>\n",
       "  </thead>\n",
       "  <tbody>\n",
       "    <tr>\n",
       "      <th>0</th>\n",
       "      <td>(0.0757, 0.859]</td>\n",
       "      <td>0.327007</td>\n",
       "    </tr>\n",
       "    <tr>\n",
       "      <th>1</th>\n",
       "      <td>(0.859, 1.639]</td>\n",
       "      <td>0.540541</td>\n",
       "    </tr>\n",
       "    <tr>\n",
       "      <th>2</th>\n",
       "      <td>(1.639, 2.42]</td>\n",
       "      <td>0.444444</td>\n",
       "    </tr>\n",
       "  </tbody>\n",
       "</table>\n",
       "</div>"
      ],
      "text/plain": [
       "     Pedigree_band  IsDiabetic\n",
       "0  (0.0757, 0.859]    0.327007\n",
       "1   (0.859, 1.639]    0.540541\n",
       "2    (1.639, 2.42]    0.444444"
      ]
     },
     "execution_count": 15,
     "metadata": {},
     "output_type": "execute_result"
    }
   ],
   "source": [
    "# YOUR CODE HERE\n",
    "data['Pedigree_band']=data2['Pedigree_band']\n",
    "#pedigree_diabratio = data[data.IsDiabetic == 1].groupby(['Pedigree_band']).count()/data.groupby(['Pedigree_band']).count()\n",
    "#pedigree_DiabeticRatio = pedigree_diabratio['IsDiabetic']\n",
    "#pedigree_DiabeticRatio\n",
    "\n",
    "pedigree_DiabeticRatio = (\n",
    "    data[['Pedigree_band', 'IsDiabetic']]\n",
    "    .groupby(['Pedigree_band'], as_index=False)\n",
    "    .mean()\n",
    "    .sort_values(by='Pedigree_band', ascending=True)\n",
    ")\n",
    "pedigree_DiabeticRatio"
   ]
  },
  {
   "cell_type": "markdown",
   "metadata": {},
   "source": [
    "__Group  __`data`__ by __`BMI_band`__ & determine ratio of diabetic in each band.__"
   ]
  },
  {
   "cell_type": "code",
   "execution_count": 16,
   "metadata": {},
   "outputs": [
    {
     "data": {
      "text/html": [
       "<div>\n",
       "<style scoped>\n",
       "    .dataframe tbody tr th:only-of-type {\n",
       "        vertical-align: middle;\n",
       "    }\n",
       "\n",
       "    .dataframe tbody tr th {\n",
       "        vertical-align: top;\n",
       "    }\n",
       "\n",
       "    .dataframe thead th {\n",
       "        text-align: right;\n",
       "    }\n",
       "</style>\n",
       "<table border=\"1\" class=\"dataframe\">\n",
       "  <thead>\n",
       "    <tr style=\"text-align: right;\">\n",
       "      <th></th>\n",
       "      <th>BMI_band</th>\n",
       "      <th>IsDiabetic</th>\n",
       "    </tr>\n",
       "  </thead>\n",
       "  <tbody>\n",
       "    <tr>\n",
       "      <th>0</th>\n",
       "      <td>(-0.0671, 22.367]</td>\n",
       "      <td>0.039216</td>\n",
       "    </tr>\n",
       "    <tr>\n",
       "      <th>1</th>\n",
       "      <td>(22.367, 44.733]</td>\n",
       "      <td>0.358297</td>\n",
       "    </tr>\n",
       "    <tr>\n",
       "      <th>2</th>\n",
       "      <td>(44.733, 67.1]</td>\n",
       "      <td>0.611111</td>\n",
       "    </tr>\n",
       "  </tbody>\n",
       "</table>\n",
       "</div>"
      ],
      "text/plain": [
       "            BMI_band  IsDiabetic\n",
       "0  (-0.0671, 22.367]    0.039216\n",
       "1   (22.367, 44.733]    0.358297\n",
       "2     (44.733, 67.1]    0.611111"
      ]
     },
     "execution_count": 16,
     "metadata": {},
     "output_type": "execute_result"
    }
   ],
   "source": [
    "# YOUR CODE HERE\n",
    "data['BMI_band']=data2['BMI_band']\n",
    "#BMI_diabratio = data[data.IsDiabetic == 1].groupby(['BMI_band']).count()/data.groupby(['BMI_band']).count()\n",
    "#BMI_DiabeticRatio = BMI_diabratio['IsDiabetic']\n",
    "#BMI_DiabeticRatio\n",
    "\n",
    "BMI_DiabeticRatio = (\n",
    "    data[[\"BMI_band\", \"IsDiabetic\"]]\n",
    "    .groupby([\"BMI_band\"], as_index=False)\n",
    "    .mean()\n",
    "    .sort_values(by=\"BMI_band\", ascending=True)\n",
    ")\n",
    "BMI_DiabeticRatio"
   ]
  },
  {
   "cell_type": "markdown",
   "metadata": {},
   "source": [
    "__Convert these features - 'BP','insulin','BMI' and 'Pedigree'   into categorical values by mapping different bands of values of these features to integers 0,1,2 in a dataframe called `data3`.__  \n",
    " \n",
    "\n",
    "\n"
   ]
  },
  {
   "cell_type": "code",
   "execution_count": 17,
   "metadata": {},
   "outputs": [
    {
     "data": {
      "text/html": [
       "<div>\n",
       "<style scoped>\n",
       "    .dataframe tbody tr th:only-of-type {\n",
       "        vertical-align: middle;\n",
       "    }\n",
       "\n",
       "    .dataframe tbody tr th {\n",
       "        vertical-align: top;\n",
       "    }\n",
       "\n",
       "    .dataframe thead th {\n",
       "        text-align: right;\n",
       "    }\n",
       "</style>\n",
       "<table border=\"1\" class=\"dataframe\">\n",
       "  <thead>\n",
       "    <tr style=\"text-align: right;\">\n",
       "      <th></th>\n",
       "      <th>BP</th>\n",
       "      <th>insulin</th>\n",
       "      <th>BMI</th>\n",
       "      <th>Pedigree</th>\n",
       "    </tr>\n",
       "  </thead>\n",
       "  <tbody>\n",
       "    <tr>\n",
       "      <th>0</th>\n",
       "      <td>1</td>\n",
       "      <td>0</td>\n",
       "      <td>1</td>\n",
       "      <td>0</td>\n",
       "    </tr>\n",
       "    <tr>\n",
       "      <th>1</th>\n",
       "      <td>1</td>\n",
       "      <td>0</td>\n",
       "      <td>1</td>\n",
       "      <td>0</td>\n",
       "    </tr>\n",
       "    <tr>\n",
       "      <th>2</th>\n",
       "      <td>1</td>\n",
       "      <td>0</td>\n",
       "      <td>1</td>\n",
       "      <td>0</td>\n",
       "    </tr>\n",
       "    <tr>\n",
       "      <th>3</th>\n",
       "      <td>1</td>\n",
       "      <td>0</td>\n",
       "      <td>1</td>\n",
       "      <td>0</td>\n",
       "    </tr>\n",
       "    <tr>\n",
       "      <th>4</th>\n",
       "      <td>0</td>\n",
       "      <td>0</td>\n",
       "      <td>1</td>\n",
       "      <td>2</td>\n",
       "    </tr>\n",
       "  </tbody>\n",
       "</table>\n",
       "</div>"
      ],
      "text/plain": [
       "  BP insulin BMI Pedigree\n",
       "0  1       0   1        0\n",
       "1  1       0   1        0\n",
       "2  1       0   1        0\n",
       "3  1       0   1        0\n",
       "4  0       0   1        2"
      ]
     },
     "execution_count": 17,
     "metadata": {},
     "output_type": "execute_result"
    }
   ],
   "source": [
    "\n",
    "\n",
    "data3=pd.DataFrame()\n",
    "columns_to_segment = [\"BP\", \"insulin\", \"BMI\", \"Pedigree\"]\n",
    "for column in columns_to_segment:\n",
    "    data3[column] = pd.cut(data[column], 3, labels=[0, 1, 2])\n",
    "    \n",
    "data3.head()"
   ]
  },
  {
   "cell_type": "code",
   "execution_count": 18,
   "metadata": {},
   "outputs": [
    {
     "data": {
      "text/html": [
       "<div>\n",
       "<style scoped>\n",
       "    .dataframe tbody tr th:only-of-type {\n",
       "        vertical-align: middle;\n",
       "    }\n",
       "\n",
       "    .dataframe tbody tr th {\n",
       "        vertical-align: top;\n",
       "    }\n",
       "\n",
       "    .dataframe thead th {\n",
       "        text-align: right;\n",
       "    }\n",
       "</style>\n",
       "<table border=\"1\" class=\"dataframe\">\n",
       "  <thead>\n",
       "    <tr style=\"text-align: right;\">\n",
       "      <th></th>\n",
       "      <th>TimesPregnant</th>\n",
       "      <th>glucoseLevel</th>\n",
       "      <th>BP</th>\n",
       "      <th>insulin</th>\n",
       "      <th>BMI</th>\n",
       "      <th>Pedigree</th>\n",
       "      <th>Age</th>\n",
       "      <th>IsDiabetic</th>\n",
       "      <th>Pedigree_band</th>\n",
       "      <th>BMI_band</th>\n",
       "    </tr>\n",
       "  </thead>\n",
       "  <tbody>\n",
       "    <tr>\n",
       "      <th>0</th>\n",
       "      <td>6</td>\n",
       "      <td>148.0</td>\n",
       "      <td>1</td>\n",
       "      <td>0</td>\n",
       "      <td>1</td>\n",
       "      <td>0</td>\n",
       "      <td>50.0</td>\n",
       "      <td>1</td>\n",
       "      <td>(0.0757, 0.859]</td>\n",
       "      <td>(22.367, 44.733]</td>\n",
       "    </tr>\n",
       "    <tr>\n",
       "      <th>1</th>\n",
       "      <td>1</td>\n",
       "      <td>NaN</td>\n",
       "      <td>1</td>\n",
       "      <td>0</td>\n",
       "      <td>1</td>\n",
       "      <td>0</td>\n",
       "      <td>31.0</td>\n",
       "      <td>0</td>\n",
       "      <td>(0.0757, 0.859]</td>\n",
       "      <td>(22.367, 44.733]</td>\n",
       "    </tr>\n",
       "    <tr>\n",
       "      <th>2</th>\n",
       "      <td>8</td>\n",
       "      <td>183.0</td>\n",
       "      <td>1</td>\n",
       "      <td>0</td>\n",
       "      <td>1</td>\n",
       "      <td>0</td>\n",
       "      <td>NaN</td>\n",
       "      <td>1</td>\n",
       "      <td>(0.0757, 0.859]</td>\n",
       "      <td>(22.367, 44.733]</td>\n",
       "    </tr>\n",
       "    <tr>\n",
       "      <th>3</th>\n",
       "      <td>1</td>\n",
       "      <td>NaN</td>\n",
       "      <td>1</td>\n",
       "      <td>0</td>\n",
       "      <td>1</td>\n",
       "      <td>0</td>\n",
       "      <td>21.0</td>\n",
       "      <td>0</td>\n",
       "      <td>(0.0757, 0.859]</td>\n",
       "      <td>(22.367, 44.733]</td>\n",
       "    </tr>\n",
       "    <tr>\n",
       "      <th>4</th>\n",
       "      <td>0</td>\n",
       "      <td>137.0</td>\n",
       "      <td>0</td>\n",
       "      <td>0</td>\n",
       "      <td>1</td>\n",
       "      <td>2</td>\n",
       "      <td>33.0</td>\n",
       "      <td>1</td>\n",
       "      <td>(1.639, 2.42]</td>\n",
       "      <td>(22.367, 44.733]</td>\n",
       "    </tr>\n",
       "    <tr>\n",
       "      <th>...</th>\n",
       "      <td>...</td>\n",
       "      <td>...</td>\n",
       "      <td>...</td>\n",
       "      <td>...</td>\n",
       "      <td>...</td>\n",
       "      <td>...</td>\n",
       "      <td>...</td>\n",
       "      <td>...</td>\n",
       "      <td>...</td>\n",
       "      <td>...</td>\n",
       "    </tr>\n",
       "    <tr>\n",
       "      <th>763</th>\n",
       "      <td>10</td>\n",
       "      <td>101.0</td>\n",
       "      <td>1</td>\n",
       "      <td>0</td>\n",
       "      <td>1</td>\n",
       "      <td>0</td>\n",
       "      <td>63.0</td>\n",
       "      <td>0</td>\n",
       "      <td>(0.0757, 0.859]</td>\n",
       "      <td>(22.367, 44.733]</td>\n",
       "    </tr>\n",
       "    <tr>\n",
       "      <th>764</th>\n",
       "      <td>2</td>\n",
       "      <td>122.0</td>\n",
       "      <td>1</td>\n",
       "      <td>0</td>\n",
       "      <td>1</td>\n",
       "      <td>0</td>\n",
       "      <td>27.0</td>\n",
       "      <td>0</td>\n",
       "      <td>(0.0757, 0.859]</td>\n",
       "      <td>(22.367, 44.733]</td>\n",
       "    </tr>\n",
       "    <tr>\n",
       "      <th>765</th>\n",
       "      <td>5</td>\n",
       "      <td>121.0</td>\n",
       "      <td>1</td>\n",
       "      <td>0</td>\n",
       "      <td>1</td>\n",
       "      <td>0</td>\n",
       "      <td>30.0</td>\n",
       "      <td>0</td>\n",
       "      <td>(0.0757, 0.859]</td>\n",
       "      <td>(22.367, 44.733]</td>\n",
       "    </tr>\n",
       "    <tr>\n",
       "      <th>766</th>\n",
       "      <td>1</td>\n",
       "      <td>126.0</td>\n",
       "      <td>1</td>\n",
       "      <td>0</td>\n",
       "      <td>1</td>\n",
       "      <td>0</td>\n",
       "      <td>47.0</td>\n",
       "      <td>1</td>\n",
       "      <td>(0.0757, 0.859]</td>\n",
       "      <td>(22.367, 44.733]</td>\n",
       "    </tr>\n",
       "    <tr>\n",
       "      <th>767</th>\n",
       "      <td>1</td>\n",
       "      <td>93.0</td>\n",
       "      <td>1</td>\n",
       "      <td>0</td>\n",
       "      <td>1</td>\n",
       "      <td>0</td>\n",
       "      <td>23.0</td>\n",
       "      <td>0</td>\n",
       "      <td>(0.0757, 0.859]</td>\n",
       "      <td>(22.367, 44.733]</td>\n",
       "    </tr>\n",
       "  </tbody>\n",
       "</table>\n",
       "<p>768 rows × 10 columns</p>\n",
       "</div>"
      ],
      "text/plain": [
       "     TimesPregnant  glucoseLevel BP insulin BMI Pedigree   Age  IsDiabetic  \\\n",
       "0                6         148.0  1       0   1        0  50.0           1   \n",
       "1                1           NaN  1       0   1        0  31.0           0   \n",
       "2                8         183.0  1       0   1        0   NaN           1   \n",
       "3                1           NaN  1       0   1        0  21.0           0   \n",
       "4                0         137.0  0       0   1        2  33.0           1   \n",
       "..             ...           ... ..     ...  ..      ...   ...         ...   \n",
       "763             10         101.0  1       0   1        0  63.0           0   \n",
       "764              2         122.0  1       0   1        0  27.0           0   \n",
       "765              5         121.0  1       0   1        0  30.0           0   \n",
       "766              1         126.0  1       0   1        0  47.0           1   \n",
       "767              1          93.0  1       0   1        0  23.0           0   \n",
       "\n",
       "       Pedigree_band          BMI_band  \n",
       "0    (0.0757, 0.859]  (22.367, 44.733]  \n",
       "1    (0.0757, 0.859]  (22.367, 44.733]  \n",
       "2    (0.0757, 0.859]  (22.367, 44.733]  \n",
       "3    (0.0757, 0.859]  (22.367, 44.733]  \n",
       "4      (1.639, 2.42]  (22.367, 44.733]  \n",
       "..               ...               ...  \n",
       "763  (0.0757, 0.859]  (22.367, 44.733]  \n",
       "764  (0.0757, 0.859]  (22.367, 44.733]  \n",
       "765  (0.0757, 0.859]  (22.367, 44.733]  \n",
       "766  (0.0757, 0.859]  (22.367, 44.733]  \n",
       "767  (0.0757, 0.859]  (22.367, 44.733]  \n",
       "\n",
       "[768 rows x 10 columns]"
      ]
     },
     "execution_count": 18,
     "metadata": {},
     "output_type": "execute_result"
    }
   ],
   "source": [
    "data['BMI']=data3['BMI']\n",
    "data['BP']=data3['BP']\n",
    "data['Pedigree']=data3['Pedigree']\n",
    "data['insulin']=data3['insulin']\n",
    "data"
   ]
  },
  {
   "cell_type": "markdown",
   "metadata": {},
   "source": [
    "\n",
    "__Now I consider the original dataset again, instead of generalizing the NAN values with the mean of the feature I will try assigning values to NANs based on some hypothesis. For example for age I assume that the relation between BMI and BP of people is a reflection of the age group. I can have 9 types of BMI and BP relations and my aim is to find the median age of each of that group:__\n",
    "\n",
    "My Age guess matrix will look like this:  \n",
    "\n",
    "| BMI | 0       | 1      | 2  |\n",
    "|-----|-------------|------------- |----- |\n",
    "| BP  |             |              |      |\n",
    "| 0   | a00         | a01          | a02  |\n",
    "| 1   | a10         | a11          | a12  |\n",
    "| 2   | a20         | a21          |  a22 |\n",
    "\n",
    "\n",
    "__I Create a guess_matrix  for NaN values of *'Age'* ( using 'BMI' and 'BP')  and  *'glucoseLevel'*  (using 'BP' and 'Pedigree') for the given dataset and I assign values accordingly to the NaNs in 'Age' or *'glucoseLevel'* .__\n",
    "\n",
    "\n"
   ]
  },
  {
   "cell_type": "code",
   "execution_count": 19,
   "metadata": {},
   "outputs": [
    {
     "name": "stdout",
     "output_type": "stream",
     "text": [
      "Guess Matrix for Age:\n",
      " [[24.5 25.  55.5]\n",
      " [29.5 29.  37. ]\n",
      " [33.  32.  31. ]]\n",
      "\n",
      "Assigning age values to NAN age values in the dataset...\n",
      "Guess Matrix for Glucose Level:\n",
      " [[115.  127.5 137. ]\n",
      " [112.  115.5 149. ]\n",
      " [133.  129.5 159.5]]\n",
      "\n",
      "Assigning Glucose Level values to NAN Glucose Level values in the dataset...\n"
     ]
    }
   ],
   "source": [
    "\n",
    "\n",
    "guess_matrix_age = np.zeros((3, 3), dtype=float)\n",
    "\n",
    "for i in range(0, 3):\n",
    "    for j in range(0,3):\n",
    "         guess_age_df = data[(data['BMI'] == i)&(data['BP'] == j)]['Age'].dropna()\n",
    "         age_guess = guess_age_df.median()\n",
    "         guess_matrix_age[i,j] = float(age_guess)\n",
    "            \n",
    "print(\"Guess Matrix for Age:\\n\", guess_matrix_age)\n",
    "\n",
    "print ('\\nAssigning age values to NAN age values in the dataset...')\n",
    "    \n",
    "for i in range(0, 3):\n",
    "    for j in range(0, 3):\n",
    "        data.loc[(data.Age.isnull()) & (data.BP == i) & (data.BMI == j),'Age'] = guess_matrix_age[i,j]\n",
    "                    \n",
    "\n",
    "\n",
    "\n",
    "guess_matrix_glucoseLevel = np.zeros((3, 3), dtype=float)\n",
    "\n",
    "for i in range(0, 3):\n",
    "    for j in range(0,3):\n",
    "         guess_glucLevel_df = data[(data['BP'] == i)&(data['Pedigree'] == j)]['glucoseLevel'].dropna()\n",
    "         glucLevel_guess = guess_glucLevel_df.median()\n",
    "         guess_matrix_glucoseLevel[i,j] = float(glucLevel_guess)\n",
    "            \n",
    "print(\"Guess Matrix for Glucose Level:\\n\", guess_matrix_glucoseLevel)\n",
    "\n",
    "print ('\\nAssigning Glucose Level values to NAN Glucose Level values in the dataset...')\n",
    "    \n",
    "for i in range(0, 3):\n",
    "    for j in range(0, 3):\n",
    "        data.loc[(data.glucoseLevel.isnull()) & (data.BP == i) & (data.Pedigree == j),'glucoseLevel'] = guess_matrix_glucoseLevel[i,j]\n",
    "                    \n",
    "\n"
   ]
  },
  {
   "cell_type": "markdown",
   "metadata": {},
   "source": [
    "\n",
    "**Now, convert 'glucoseLevel' and 'Age' features also to categorical variables of 4 categories each in a dataframe called `data4`. PRINT the head of `data4`**\n",
    "\n",
    "\n",
    "\n",
    "\n",
    "\n",
    "\n"
   ]
  },
  {
   "cell_type": "code",
   "execution_count": 20,
   "metadata": {},
   "outputs": [
    {
     "name": "stdout",
     "output_type": "stream",
     "text": [
      "  glucoseLevel Age\n",
      "0            2   1\n",
      "1            2   0\n",
      "2            3   0\n",
      "3            2   0\n",
      "4            2   0\n"
     ]
    }
   ],
   "source": [
    "\n",
    "\n",
    "data4 = pd.DataFrame()\n",
    "data4['glucoseLevel']=pd.cut(data['glucoseLevel'],4, labels=[0,1,2,3])\n",
    "data4['Age']=pd.cut(data['Age'],4,labels=[0,1,2,3])\n",
    "\n",
    "print(data4.head())"
   ]
  },
  {
   "cell_type": "code",
   "execution_count": 21,
   "metadata": {},
   "outputs": [
    {
     "data": {
      "text/html": [
       "<div>\n",
       "<style scoped>\n",
       "    .dataframe tbody tr th:only-of-type {\n",
       "        vertical-align: middle;\n",
       "    }\n",
       "\n",
       "    .dataframe tbody tr th {\n",
       "        vertical-align: top;\n",
       "    }\n",
       "\n",
       "    .dataframe thead th {\n",
       "        text-align: right;\n",
       "    }\n",
       "</style>\n",
       "<table border=\"1\" class=\"dataframe\">\n",
       "  <thead>\n",
       "    <tr style=\"text-align: right;\">\n",
       "      <th></th>\n",
       "      <th>TimesPregnant</th>\n",
       "      <th>glucoseLevel</th>\n",
       "      <th>BP</th>\n",
       "      <th>insulin</th>\n",
       "      <th>BMI</th>\n",
       "      <th>Pedigree</th>\n",
       "      <th>Age</th>\n",
       "      <th>IsDiabetic</th>\n",
       "      <th>Pedigree_band</th>\n",
       "      <th>BMI_band</th>\n",
       "    </tr>\n",
       "  </thead>\n",
       "  <tbody>\n",
       "    <tr>\n",
       "      <th>0</th>\n",
       "      <td>6</td>\n",
       "      <td>148.0</td>\n",
       "      <td>1</td>\n",
       "      <td>0</td>\n",
       "      <td>1</td>\n",
       "      <td>0</td>\n",
       "      <td>50.0</td>\n",
       "      <td>1</td>\n",
       "      <td>(0.0757, 0.859]</td>\n",
       "      <td>(22.367, 44.733]</td>\n",
       "    </tr>\n",
       "    <tr>\n",
       "      <th>1</th>\n",
       "      <td>1</td>\n",
       "      <td>112.0</td>\n",
       "      <td>1</td>\n",
       "      <td>0</td>\n",
       "      <td>1</td>\n",
       "      <td>0</td>\n",
       "      <td>31.0</td>\n",
       "      <td>0</td>\n",
       "      <td>(0.0757, 0.859]</td>\n",
       "      <td>(22.367, 44.733]</td>\n",
       "    </tr>\n",
       "    <tr>\n",
       "      <th>2</th>\n",
       "      <td>8</td>\n",
       "      <td>183.0</td>\n",
       "      <td>1</td>\n",
       "      <td>0</td>\n",
       "      <td>1</td>\n",
       "      <td>0</td>\n",
       "      <td>29.0</td>\n",
       "      <td>1</td>\n",
       "      <td>(0.0757, 0.859]</td>\n",
       "      <td>(22.367, 44.733]</td>\n",
       "    </tr>\n",
       "    <tr>\n",
       "      <th>3</th>\n",
       "      <td>1</td>\n",
       "      <td>112.0</td>\n",
       "      <td>1</td>\n",
       "      <td>0</td>\n",
       "      <td>1</td>\n",
       "      <td>0</td>\n",
       "      <td>21.0</td>\n",
       "      <td>0</td>\n",
       "      <td>(0.0757, 0.859]</td>\n",
       "      <td>(22.367, 44.733]</td>\n",
       "    </tr>\n",
       "    <tr>\n",
       "      <th>4</th>\n",
       "      <td>0</td>\n",
       "      <td>137.0</td>\n",
       "      <td>0</td>\n",
       "      <td>0</td>\n",
       "      <td>1</td>\n",
       "      <td>2</td>\n",
       "      <td>33.0</td>\n",
       "      <td>1</td>\n",
       "      <td>(1.639, 2.42]</td>\n",
       "      <td>(22.367, 44.733]</td>\n",
       "    </tr>\n",
       "    <tr>\n",
       "      <th>...</th>\n",
       "      <td>...</td>\n",
       "      <td>...</td>\n",
       "      <td>...</td>\n",
       "      <td>...</td>\n",
       "      <td>...</td>\n",
       "      <td>...</td>\n",
       "      <td>...</td>\n",
       "      <td>...</td>\n",
       "      <td>...</td>\n",
       "      <td>...</td>\n",
       "    </tr>\n",
       "    <tr>\n",
       "      <th>763</th>\n",
       "      <td>10</td>\n",
       "      <td>101.0</td>\n",
       "      <td>1</td>\n",
       "      <td>0</td>\n",
       "      <td>1</td>\n",
       "      <td>0</td>\n",
       "      <td>63.0</td>\n",
       "      <td>0</td>\n",
       "      <td>(0.0757, 0.859]</td>\n",
       "      <td>(22.367, 44.733]</td>\n",
       "    </tr>\n",
       "    <tr>\n",
       "      <th>764</th>\n",
       "      <td>2</td>\n",
       "      <td>122.0</td>\n",
       "      <td>1</td>\n",
       "      <td>0</td>\n",
       "      <td>1</td>\n",
       "      <td>0</td>\n",
       "      <td>27.0</td>\n",
       "      <td>0</td>\n",
       "      <td>(0.0757, 0.859]</td>\n",
       "      <td>(22.367, 44.733]</td>\n",
       "    </tr>\n",
       "    <tr>\n",
       "      <th>765</th>\n",
       "      <td>5</td>\n",
       "      <td>121.0</td>\n",
       "      <td>1</td>\n",
       "      <td>0</td>\n",
       "      <td>1</td>\n",
       "      <td>0</td>\n",
       "      <td>30.0</td>\n",
       "      <td>0</td>\n",
       "      <td>(0.0757, 0.859]</td>\n",
       "      <td>(22.367, 44.733]</td>\n",
       "    </tr>\n",
       "    <tr>\n",
       "      <th>766</th>\n",
       "      <td>1</td>\n",
       "      <td>126.0</td>\n",
       "      <td>1</td>\n",
       "      <td>0</td>\n",
       "      <td>1</td>\n",
       "      <td>0</td>\n",
       "      <td>47.0</td>\n",
       "      <td>1</td>\n",
       "      <td>(0.0757, 0.859]</td>\n",
       "      <td>(22.367, 44.733]</td>\n",
       "    </tr>\n",
       "    <tr>\n",
       "      <th>767</th>\n",
       "      <td>1</td>\n",
       "      <td>93.0</td>\n",
       "      <td>1</td>\n",
       "      <td>0</td>\n",
       "      <td>1</td>\n",
       "      <td>0</td>\n",
       "      <td>23.0</td>\n",
       "      <td>0</td>\n",
       "      <td>(0.0757, 0.859]</td>\n",
       "      <td>(22.367, 44.733]</td>\n",
       "    </tr>\n",
       "  </tbody>\n",
       "</table>\n",
       "<p>768 rows × 10 columns</p>\n",
       "</div>"
      ],
      "text/plain": [
       "     TimesPregnant  glucoseLevel BP insulin BMI Pedigree   Age  IsDiabetic  \\\n",
       "0                6         148.0  1       0   1        0  50.0           1   \n",
       "1                1         112.0  1       0   1        0  31.0           0   \n",
       "2                8         183.0  1       0   1        0  29.0           1   \n",
       "3                1         112.0  1       0   1        0  21.0           0   \n",
       "4                0         137.0  0       0   1        2  33.0           1   \n",
       "..             ...           ... ..     ...  ..      ...   ...         ...   \n",
       "763             10         101.0  1       0   1        0  63.0           0   \n",
       "764              2         122.0  1       0   1        0  27.0           0   \n",
       "765              5         121.0  1       0   1        0  30.0           0   \n",
       "766              1         126.0  1       0   1        0  47.0           1   \n",
       "767              1          93.0  1       0   1        0  23.0           0   \n",
       "\n",
       "       Pedigree_band          BMI_band  \n",
       "0    (0.0757, 0.859]  (22.367, 44.733]  \n",
       "1    (0.0757, 0.859]  (22.367, 44.733]  \n",
       "2    (0.0757, 0.859]  (22.367, 44.733]  \n",
       "3    (0.0757, 0.859]  (22.367, 44.733]  \n",
       "4      (1.639, 2.42]  (22.367, 44.733]  \n",
       "..               ...               ...  \n",
       "763  (0.0757, 0.859]  (22.367, 44.733]  \n",
       "764  (0.0757, 0.859]  (22.367, 44.733]  \n",
       "765  (0.0757, 0.859]  (22.367, 44.733]  \n",
       "766  (0.0757, 0.859]  (22.367, 44.733]  \n",
       "767  (0.0757, 0.859]  (22.367, 44.733]  \n",
       "\n",
       "[768 rows x 10 columns]"
      ]
     },
     "execution_count": 21,
     "metadata": {},
     "output_type": "execute_result"
    }
   ],
   "source": [
    "data\n"
   ]
  },
  {
   "cell_type": "code",
   "execution_count": 22,
   "metadata": {},
   "outputs": [
    {
     "data": {
      "text/html": [
       "<div>\n",
       "<style scoped>\n",
       "    .dataframe tbody tr th:only-of-type {\n",
       "        vertical-align: middle;\n",
       "    }\n",
       "\n",
       "    .dataframe tbody tr th {\n",
       "        vertical-align: top;\n",
       "    }\n",
       "\n",
       "    .dataframe thead th {\n",
       "        text-align: right;\n",
       "    }\n",
       "</style>\n",
       "<table border=\"1\" class=\"dataframe\">\n",
       "  <thead>\n",
       "    <tr style=\"text-align: right;\">\n",
       "      <th></th>\n",
       "      <th>TimesPregnant</th>\n",
       "      <th>glucoseLevel</th>\n",
       "      <th>BP</th>\n",
       "      <th>insulin</th>\n",
       "      <th>BMI</th>\n",
       "      <th>Pedigree</th>\n",
       "      <th>Age</th>\n",
       "      <th>IsDiabetic</th>\n",
       "    </tr>\n",
       "  </thead>\n",
       "  <tbody>\n",
       "    <tr>\n",
       "      <th>0</th>\n",
       "      <td>6</td>\n",
       "      <td>2</td>\n",
       "      <td>1</td>\n",
       "      <td>0</td>\n",
       "      <td>1</td>\n",
       "      <td>0</td>\n",
       "      <td>1</td>\n",
       "      <td>1</td>\n",
       "    </tr>\n",
       "    <tr>\n",
       "      <th>1</th>\n",
       "      <td>1</td>\n",
       "      <td>2</td>\n",
       "      <td>1</td>\n",
       "      <td>0</td>\n",
       "      <td>1</td>\n",
       "      <td>0</td>\n",
       "      <td>0</td>\n",
       "      <td>0</td>\n",
       "    </tr>\n",
       "    <tr>\n",
       "      <th>2</th>\n",
       "      <td>8</td>\n",
       "      <td>3</td>\n",
       "      <td>1</td>\n",
       "      <td>0</td>\n",
       "      <td>1</td>\n",
       "      <td>0</td>\n",
       "      <td>0</td>\n",
       "      <td>1</td>\n",
       "    </tr>\n",
       "    <tr>\n",
       "      <th>3</th>\n",
       "      <td>1</td>\n",
       "      <td>2</td>\n",
       "      <td>1</td>\n",
       "      <td>0</td>\n",
       "      <td>1</td>\n",
       "      <td>0</td>\n",
       "      <td>0</td>\n",
       "      <td>0</td>\n",
       "    </tr>\n",
       "    <tr>\n",
       "      <th>4</th>\n",
       "      <td>0</td>\n",
       "      <td>2</td>\n",
       "      <td>0</td>\n",
       "      <td>0</td>\n",
       "      <td>1</td>\n",
       "      <td>2</td>\n",
       "      <td>0</td>\n",
       "      <td>1</td>\n",
       "    </tr>\n",
       "    <tr>\n",
       "      <th>...</th>\n",
       "      <td>...</td>\n",
       "      <td>...</td>\n",
       "      <td>...</td>\n",
       "      <td>...</td>\n",
       "      <td>...</td>\n",
       "      <td>...</td>\n",
       "      <td>...</td>\n",
       "      <td>...</td>\n",
       "    </tr>\n",
       "    <tr>\n",
       "      <th>763</th>\n",
       "      <td>10</td>\n",
       "      <td>2</td>\n",
       "      <td>1</td>\n",
       "      <td>0</td>\n",
       "      <td>1</td>\n",
       "      <td>0</td>\n",
       "      <td>2</td>\n",
       "      <td>0</td>\n",
       "    </tr>\n",
       "    <tr>\n",
       "      <th>764</th>\n",
       "      <td>2</td>\n",
       "      <td>2</td>\n",
       "      <td>1</td>\n",
       "      <td>0</td>\n",
       "      <td>1</td>\n",
       "      <td>0</td>\n",
       "      <td>0</td>\n",
       "      <td>0</td>\n",
       "    </tr>\n",
       "    <tr>\n",
       "      <th>765</th>\n",
       "      <td>5</td>\n",
       "      <td>2</td>\n",
       "      <td>1</td>\n",
       "      <td>0</td>\n",
       "      <td>1</td>\n",
       "      <td>0</td>\n",
       "      <td>0</td>\n",
       "      <td>0</td>\n",
       "    </tr>\n",
       "    <tr>\n",
       "      <th>766</th>\n",
       "      <td>1</td>\n",
       "      <td>2</td>\n",
       "      <td>1</td>\n",
       "      <td>0</td>\n",
       "      <td>1</td>\n",
       "      <td>0</td>\n",
       "      <td>1</td>\n",
       "      <td>1</td>\n",
       "    </tr>\n",
       "    <tr>\n",
       "      <th>767</th>\n",
       "      <td>1</td>\n",
       "      <td>1</td>\n",
       "      <td>1</td>\n",
       "      <td>0</td>\n",
       "      <td>1</td>\n",
       "      <td>0</td>\n",
       "      <td>0</td>\n",
       "      <td>0</td>\n",
       "    </tr>\n",
       "  </tbody>\n",
       "</table>\n",
       "<p>768 rows × 8 columns</p>\n",
       "</div>"
      ],
      "text/plain": [
       "     TimesPregnant glucoseLevel BP insulin BMI Pedigree Age  IsDiabetic\n",
       "0                6            2  1       0   1        0   1           1\n",
       "1                1            2  1       0   1        0   0           0\n",
       "2                8            3  1       0   1        0   0           1\n",
       "3                1            2  1       0   1        0   0           0\n",
       "4                0            2  0       0   1        2   0           1\n",
       "..             ...          ... ..     ...  ..      ...  ..         ...\n",
       "763             10            2  1       0   1        0   2           0\n",
       "764              2            2  1       0   1        0   0           0\n",
       "765              5            2  1       0   1        0   0           0\n",
       "766              1            2  1       0   1        0   1           1\n",
       "767              1            1  1       0   1        0   0           0\n",
       "\n",
       "[768 rows x 8 columns]"
      ]
     },
     "execution_count": 22,
     "metadata": {},
     "output_type": "execute_result"
    }
   ],
   "source": [
    "\n",
    "data['glucoseLevel']=data4['glucoseLevel']\n",
    "data['Age']=data4['Age']\n",
    "data= data.drop(['Pedigree_band'], axis=1)\n",
    "data= data.drop(['BMI_band'], axis=1)\n",
    "data"
   ]
  },
  {
   "cell_type": "markdown",
   "metadata": {},
   "source": [
    "__Use this dataset (with all features in categorical form) to train perceptron, logistic regression and random forest models using 15% test split. Report training and test accuracies.__\n"
   ]
  },
  {
   "cell_type": "code",
   "execution_count": 23,
   "metadata": {},
   "outputs": [
    {
     "data": {
      "text/plain": [
       "((652, 7), (652,), (116, 7))"
      ]
     },
     "execution_count": 23,
     "metadata": {},
     "output_type": "execute_result"
    }
   ],
   "source": [
    "from sklearn.model_selection import train_test_split\n",
    "\n",
    "train_df, test_df = train_test_split(data, test_size=0.15, random_state=100)\n",
    "X_train = train_df.drop(['IsDiabetic'], axis=1)\n",
    "Y_train = train_df.loc[:, train_df.columns == 'IsDiabetic'].values.ravel()\n",
    "X_test  = test_df.drop(['IsDiabetic'], axis=1)\n",
    "Y_test = test_df.loc[:, test_df.columns == 'IsDiabetic'].values.ravel()\n",
    "\n",
    "X_train.shape, Y_train.shape, X_test.shape"
   ]
  },
  {
   "cell_type": "code",
   "execution_count": 24,
   "metadata": {},
   "outputs": [
    {
     "name": "stdout",
     "output_type": "stream",
     "text": [
      "logreg training acuracy=  0.7530674846625767\n",
      "logreg test accuracy=  0.7327586206896551\n"
     ]
    }
   ],
   "source": [
    "# Logistic Regression\n",
    "\n",
    "from sklearn import linear_model\n",
    "logreg = linear_model.LogisticRegression(solver = 'newton-cg', multi_class='ovr') \n",
    "logreg.fit(X_train, Y_train)\n",
    "logreg_train_acc = logreg.score(X_train,Y_train)\n",
    "logreg_test_acc = logreg.score(X_test,Y_test)\n",
    "print ('logreg training acuracy= ',logreg_train_acc)\n",
    "print('logreg test accuracy= ',logreg_test_acc)"
   ]
  },
  {
   "cell_type": "code",
   "execution_count": 25,
   "metadata": {},
   "outputs": [
    {
     "name": "stdout",
     "output_type": "stream",
     "text": [
      "perceptron training acuracy=  0.5812883435582822\n",
      "perceptron test accuracy=  0.6120689655172413\n"
     ]
    }
   ],
   "source": [
    "# Perceptron\n",
    "\n",
    "perceptron = linear_model.Perceptron()\n",
    "perceptron.fit(X_train, Y_train)\n",
    "perceptron_train_acc = perceptron.score(X_train, Y_train)\n",
    "perceptron_test_acc = perceptron.score(X_test, Y_test)\n",
    "print ('perceptron training acuracy= ',perceptron_train_acc)\n",
    "print('perceptron test accuracy= ',perceptron_test_acc)"
   ]
  },
  {
   "cell_type": "code",
   "execution_count": 26,
   "metadata": {},
   "outputs": [
    {
     "name": "stdout",
     "output_type": "stream",
     "text": [
      "random_forest training acuracy=  0.8773006134969326\n",
      "random_forest test accuracy=  0.8773006134969326\n"
     ]
    }
   ],
   "source": [
    "# Random Forest\n",
    "\n",
    "from sklearn.ensemble import RandomForestClassifier\n",
    "random_forest = RandomForestClassifier()\n",
    "random_forest.fit(X_train, Y_train)\n",
    "random_forest_train_acc = random_forest.score(X_train, Y_train)\n",
    "random_forest_test_acc = random_forest.score(X_train, Y_train)\n",
    "print('random_forest training acuracy= ',random_forest_train_acc)\n",
    "print('random_forest test accuracy= ',random_forest_test_acc)"
   ]
  }
 ],
 "metadata": {
  "kernel_info": {
   "name": "data-x"
  },
  "kernelspec": {
   "display_name": "Python 3",
   "language": "python",
   "name": "python3"
  },
  "language_info": {
   "codemirror_mode": {
    "name": "ipython",
    "version": 3
   },
   "file_extension": ".py",
   "mimetype": "text/x-python",
   "name": "python",
   "nbconvert_exporter": "python",
   "pygments_lexer": "ipython3",
   "version": "3.7.4"
  },
  "nteract": {
   "version": "0.7.1"
  }
 },
 "nbformat": 4,
 "nbformat_minor": 2
}
